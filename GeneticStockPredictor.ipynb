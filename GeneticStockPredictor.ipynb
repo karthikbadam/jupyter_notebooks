{
 "cells": [
  {
   "cell_type": "code",
   "execution_count": 1,
   "metadata": {
    "collapsed": true
   },
   "outputs": [],
   "source": [
    "import deap"
   ]
  },
  {
   "cell_type": "code",
   "execution_count": 9,
   "metadata": {
    "collapsed": false
   },
   "outputs": [],
   "source": [
    "from yahoo_finance import Share\n",
    "import json"
   ]
  },
  {
   "cell_type": "code",
   "execution_count": 6,
   "metadata": {
    "collapsed": false
   },
   "outputs": [],
   "source": [
    "yahoo = Share('YHOO')\n",
    "yahooPast = yahoo.get_historical('2014-04-25', '2015-06-25')"
   ]
  },
  {
   "cell_type": "code",
   "execution_count": 6,
   "metadata": {
    "collapsed": false
   },
   "outputs": [
    {
     "ename": "NameError",
     "evalue": "name 'yahooPast' is not defined",
     "output_type": "error",
     "traceback": [
      "\u001b[0;31m---------------------------------------------------------------------------\u001b[0m",
      "\u001b[0;31mNameError\u001b[0m                                 Traceback (most recent call last)",
      "\u001b[0;32m<ipython-input-6-1cc3041ead8d>\u001b[0m in \u001b[0;36m<module>\u001b[0;34m()\u001b[0m\n\u001b[0;32m----> 1\u001b[0;31m \u001b[0myahooPast\u001b[0m\u001b[0;34m[\u001b[0m\u001b[0;36m1\u001b[0m\u001b[0;34m]\u001b[0m\u001b[0;34m.\u001b[0m\u001b[0mget\u001b[0m\u001b[0;34m(\u001b[0m\u001b[0;34m'Close'\u001b[0m\u001b[0;34m)\u001b[0m\u001b[0;34m\u001b[0m\u001b[0m\n\u001b[0m",
      "\u001b[0;31mNameError\u001b[0m: name 'yahooPast' is not defined"
     ]
    }
   ],
   "source": [
    "yahooPast[1].get('Close')"
   ]
  },
  {
   "cell_type": "code",
   "execution_count": 17,
   "metadata": {
    "collapsed": false
   },
   "outputs": [
    {
     "data": {
      "text/plain": [
       "295"
      ]
     },
     "execution_count": 17,
     "metadata": {},
     "output_type": "execute_result"
    }
   ],
   "source": [
    "len(yahooPast)"
   ]
  },
  {
   "cell_type": "code",
   "execution_count": 20,
   "metadata": {
    "collapsed": false
   },
   "outputs": [
    {
     "name": "stdout",
     "output_type": "stream",
     "text": [
      "  Max 120\n",
      "  Max 121\n",
      "  Max 117\n",
      "  Max 123\n",
      "  Max 122\n",
      "  Max 122\n",
      "  Max 116\n",
      "  Max 121\n",
      "  Max 119\n",
      "  Max 119\n",
      "  Max 119\n",
      "  Max 121\n",
      "  Max 118\n",
      "  Max 118\n",
      "  Max 119\n",
      "  Max 118\n",
      "  Max 118\n",
      "  Max 120\n",
      "  Max 121\n",
      "  Max 119\n",
      "  Max 123\n",
      "  Max 123\n",
      "  Max 121\n",
      "  Max 120\n",
      "  Max 119\n",
      "  Max 119\n",
      "  Max 119\n",
      "  Max 116\n",
      "  Max 121\n",
      "  Max 122\n",
      "  Max 118\n",
      "  Max 118\n",
      "  Max 116\n",
      "  Max 117\n",
      "  Max 118\n",
      "  Max 117\n",
      "  Max 118\n",
      "  Max 116\n",
      "  Max 115\n",
      "  Max 118\n",
      "  Max 116\n",
      "  Max 116\n",
      "  Max 117\n",
      "  Max 117\n",
      "  Max 117\n",
      "  Max 118\n",
      "  Max 118\n",
      "  Max 119\n",
      "  Max 117\n",
      "  Max 118\n",
      "  Max 117\n",
      "  Max 117\n",
      "  Max 118\n",
      "  Max 118\n",
      "  Max 117\n",
      "  Max 119\n",
      "  Max 117\n",
      "  Max 117\n",
      "  Max 116\n",
      "  Max 118\n"
     ]
    }
   ],
   "source": [
    "import array, random\n",
    "from deap import creator, base, tools, algorithms\n",
    "\n",
    "creator.create(\"FitnessMax\", base.Fitness, weights=(1.0,))\n",
    "creator.create(\"Individual\", array.array, typecode='b', fitness=creator.FitnessMax)\n",
    "\n",
    "toolbox = base.Toolbox()\n",
    "\n",
    "toolbox.register(\"attr_bool\", random.randint, 0, 1)\n",
    "toolbox.register(\"individual\", tools.initRepeat, creator.Individual, toolbox.attr_bool, 200)\n",
    "toolbox.register(\"population\", tools.initRepeat, list, toolbox.individual)\n",
    "\n",
    "def evalOneMax(individual):\n",
    "    return sum(individual),\n",
    "\n",
    "toolbox.register(\"evaluate\", evalOneMax)\n",
    "toolbox.register(\"mate\", tools.cxTwoPoint)\n",
    "toolbox.register(\"mutate\", tools.mutFlipBit, indpb=0.05)\n",
    "toolbox.register(\"select\", tools.selTournament, tournsize=3)\n",
    "\n",
    "population = toolbox.population(n=300)\n",
    "\n",
    "NGEN=60\n",
    "for gen in range(NGEN):\n",
    "    offspring = algorithms.varAnd(population, toolbox, cxpb=0.5, mutpb=0.5)\n",
    "    fits = toolbox.map(toolbox.evaluate, offspring)\n",
    "    for fit, ind in zip(fits, offspring):\n",
    "        ind.fitness.values = fit\n",
    "    population = offspring\n",
    "    \n",
    "    #print(\"  Min %s\" % min(fits))\n",
    "    print(\"  Max %s\" % max(fits))\n",
    "    \n",
    "    #print(fits)\n",
    "    "
   ]
  },
  {
   "cell_type": "code",
   "execution_count": null,
   "metadata": {
    "collapsed": true
   },
   "outputs": [],
   "source": []
  }
 ],
 "metadata": {
  "kernelspec": {
   "display_name": "Python 2",
   "language": "python",
   "name": "python2"
  },
  "language_info": {
   "codemirror_mode": {
    "name": "ipython",
    "version": 2
   },
   "file_extension": ".py",
   "mimetype": "text/x-python",
   "name": "python",
   "nbconvert_exporter": "python",
   "pygments_lexer": "ipython2",
   "version": "2.7.10"
  }
 },
 "nbformat": 4,
 "nbformat_minor": 0
}
