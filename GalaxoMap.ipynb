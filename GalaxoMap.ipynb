{
 "cells": [
  {
   "cell_type": "markdown",
   "metadata": {
    "collapsed": false
   },
   "source": [
    "# GalaxoMap\n",
    "\n",
    "## Visualization of all known planets in the Universe"
   ]
  },
  {
   "cell_type": "markdown",
   "metadata": {
    "collapsed": false
   },
   "source": [
    "There are currently 1852 observed and confirmed planets in the Universe. This list is prepared by NASA and other external researchers based on discovery methods such as radial velocity, imaging, and astrometry. The raw planet data is public and accessible at http://exoplanetarchive.ipac.caltech.edu/cgi-bin/TblView/nph-tblView?app=ExoTbls&config=planets.\n",
    "\n",
    "In this notebook, I plan to create interesting visualizations from this data from different perspectives. Lets hope something interesting shows up. One of my goals for this project is to come up with data to visual mappings that are inspired from the sematic meaning of the data attributes."
   ]
  },
  {
   "cell_type": "code",
   "execution_count": 20,
   "metadata": {
    "collapsed": false
   },
   "outputs": [],
   "source": [
    "# Importing the libraries\n",
    "%matplotlib inline\n",
    "import math\n",
    "import numpy as np\n",
    "import pandas as pd\n",
    "import matplotlib.pyplot as plt\n",
    "import plotly.plotly as py  \n",
    "py.sign_in('karthikbadam', 'mevafrzvrl')\n",
    "\n",
    "# (*) Useful Python/Plotly tools\n",
    "import plotly.tools as tls   \n",
    "\n",
    "# (*) Graph objects to piece together plots\n",
    "from plotly.graph_objs import *"
   ]
  },
  {
   "cell_type": "code",
   "execution_count": 21,
   "metadata": {
    "collapsed": false
   },
   "outputs": [
    {
     "name": "stdout",
     "output_type": "stream",
     "text": [
      "             column                                   name\n",
      "0       pl_hostname                            Planet Name\n",
      "1         pl_letter                          Planet Letter\n",
      "2     pl_discmethod                       Discovery Method\n",
      "3           pl_pnum            Number of Planets in System\n",
      "4         pl_orbper                  Orbital Period [days]\n",
      "5     pl_orbpererr1       Orbital Period Upper Unc. [days]\n",
      "6     pl_orbpererr2       Orbital Period Lower Unc. [days]\n",
      "7      pl_orbperlim              Orbital Period Limit Flag\n",
      "8        pl_orbsmax            Orbit Semi-Major Axis [AU])\n",
      "9    pl_orbsmaxerr1  Orbit Semi-Major Axis Upper Unc. [AU]\n",
      "10   pl_orbsmaxerr2  Orbit Semi-Major Axis Lower Unc. [AU]\n",
      "11    pl_orbsmaxlim       Orbit Semi-Major Axis Limit Flag\n",
      "12      pl_orbeccen                           Eccentricity\n",
      "13  pl_orbeccenerr1                Eccentricity Upper Unc.\n",
      "14  pl_orbeccenerr2                Eccentricity Lower Unc.\n",
      "15   pl_orbeccenlim                Eccentricity Limit Flag\n",
      "16         pl_massj             Planet Mass [Jupiter mass]\n",
      "17     pl_massjerr1  Planet Mass Upper Unc. [Jupiter mass]\n",
      "18     pl_massjerr2  Planet Mass Lower Unc. [Jupiter mass]\n",
      "19      pl_massjlim                 Planet Mass Limit Flag\n",
      "\n",
      "   rowid              pl_hostname pl_letter    pl_discmethod  pl_pnum  \\\n",
      "0      1                   11 Com         b  Radial Velocity        1   \n",
      "1      2                   11 UMi         b  Radial Velocity        1   \n",
      "2      3                   14 And         b  Radial Velocity        1   \n",
      "3      4                   14 Her         b  Radial Velocity        1   \n",
      "4      5                 16 Cyg B         b  Radial Velocity        1   \n",
      "5      6                   18 Del         b  Radial Velocity        1   \n",
      "6      7    1RXS J160929.1-210524         b          Imaging        1   \n",
      "7      8                   24 Sex         b  Radial Velocity        2   \n",
      "8      9                   24 Sex         c  Radial Velocity        2   \n",
      "9     10  2MASS J01225093-2439505         b          Imaging        1   \n",
      "\n",
      "     ...      st_c1  st_c1err  st_c1lim  st_c1blend  st_colorn  \n",
      "0    ...        NaN       NaN       NaN         NaN          7  \n",
      "1    ...        NaN       NaN       NaN         NaN          5  \n",
      "2    ...        NaN       NaN       NaN         NaN          7  \n",
      "3    ...      0.438     0.006         0           0          9  \n",
      "4    ...      0.351     0.003         0           0         17  \n",
      "5    ...        NaN       NaN       NaN         NaN          5  \n",
      "6    ...        NaN       NaN       NaN         NaN          3  \n",
      "7    ...      0.427     0.004         0           0          8  \n",
      "8    ...      0.427     0.004         0           0          8  \n",
      "9    ...        NaN       NaN       NaN         NaN          3  \n",
      "\n",
      "[10 rows x 355 columns]\n"
     ]
    }
   ],
   "source": [
    "metaPlanetDataFile = \"~/Documents/exoplanet_meta.csv\"\n",
    "planetDataFile = \"~/Documents/exoplanet.csv\"\n",
    "\n",
    "# Load data\n",
    "metaData = pd.read_csv(metaPlanetDataFile)\n",
    "planetData = pd.read_csv(planetDataFile)\n",
    "\n",
    "print metaData.head(20)\n",
    "print \"\"\n",
    "\n",
    "# Print part of the data\n",
    "pd.set_option('display.max_columns', 10)\n",
    "print planetData.head(10)"
   ]
  },
  {
   "cell_type": "markdown",
   "metadata": {
    "collapsed": true
   },
   "source": [
    "Now lets get a look at this data. First, lets summarize data based on the discovery method. \n",
    "\n"
   ]
  },
  {
   "cell_type": "code",
   "execution_count": 22,
   "metadata": {
    "collapsed": false
   },
   "outputs": [
    {
     "data": {
      "text/plain": [
       "pl_discmethod\n",
       "Astrometry                          1\n",
       "Eclipse Timing Variations           8\n",
       "Imaging                            38\n",
       "Microlensing                       32\n",
       "Orbital Brightness Modulation       6\n",
       "Pulsar Timing                       5\n",
       "Pulsation Timing Variations         1\n",
       "Radial Velocity                   543\n",
       "Transit                          1203\n",
       "Transit Timing Variations          15\n",
       "Name: rowid, dtype: int64"
      ]
     },
     "execution_count": 22,
     "metadata": {},
     "output_type": "execute_result"
    }
   ],
   "source": [
    "planetData.groupby('pl_discmethod').rowid.count()"
   ]
  },
  {
   "cell_type": "markdown",
   "metadata": {},
   "source": [
    "### Visualizing the orbital speed of the planets"
   ]
  },
  {
   "cell_type": "code",
   "execution_count": 23,
   "metadata": {
    "collapsed": false
   },
   "outputs": [
    {
     "data": {
      "text/plain": [
       "0     326.03\n",
       "1     516.22\n",
       "2     185.84\n",
       "3    1773.40\n",
       "4     798.50\n",
       "Name: pl_orbper, dtype: float64"
      ]
     },
     "execution_count": 23,
     "metadata": {},
     "output_type": "execute_result"
    }
   ],
   "source": [
    "orbitalPeriods = planetData[\"pl_orbper\"]\n",
    "orbitalPeriods.head()"
   ]
  },
  {
   "cell_type": "code",
   "execution_count": 24,
   "metadata": {
    "collapsed": false
   },
   "outputs": [
    {
     "data": {
      "text/plain": [
       "[0.090706289999999995, 730000.0]"
      ]
     },
     "execution_count": 24,
     "metadata": {},
     "output_type": "execute_result"
    }
   ],
   "source": [
    "periodRange = [orbitalPeriods.min(), orbitalPeriods.max()]\n",
    "periodRange"
   ]
  },
  {
   "cell_type": "markdown",
   "metadata": {},
   "source": [
    "Orbital periods can be represented by circles. I will also visualize planet earth as a reference."
   ]
  },
  {
   "cell_type": "code",
   "execution_count": 25,
   "metadata": {
    "collapsed": false
   },
   "outputs": [
    {
     "data": {
      "text/html": [
       "<iframe id=\"igraph\" scrolling=\"no\" style=\"border:none;\"seamless=\"seamless\" src=\"https://plot.ly/~karthikbadam/26.embed\" height=\"525\" width=\"100%\"></iframe>"
      ],
      "text/plain": [
       "<plotly.tools.PlotlyDisplay object>"
      ]
     },
     "execution_count": 25,
     "metadata": {},
     "output_type": "execute_result"
    }
   ],
   "source": [
    "trace = Scatter(\n",
    "    x=planetData[\"pl_hostname\"],\n",
    "    y=planetData[\"pl_orbper\"]\n",
    ")\n",
    "py.iplot([trace], filename = 'basic-line')"
   ]
  },
  {
   "cell_type": "code",
   "execution_count": 37,
   "metadata": {
    "collapsed": false
   },
   "outputs": [
    {
     "name": "stdout",
     "output_type": "stream",
     "text": [
      "0     626.03\n",
      "1     816.22\n",
      "2     485.84\n",
      "3    2073.40\n",
      "4    1098.50\n",
      "5    1293.30\n",
      "6     300.00\n",
      "7     752.80\n",
      "8    1183.00\n",
      "9     300.00\n",
      "Name: pl_orbper, dtype: float64\n"
     ]
    },
    {
     "name": "stderr",
     "output_type": "stream",
     "text": [
      "/Users/karthik/anaconda/lib/python2.7/site-packages/IPython/kernel/__main__.py:2: SettingWithCopyWarning:\n",
      "\n",
      "\n",
      "A value is trying to be set on a copy of a slice from a DataFrame\n",
      "\n",
      "See the the caveats in the documentation: http://pandas.pydata.org/pandas-docs/stable/indexing.html#indexing-view-versus-copy\n",
      "\n"
     ]
    }
   ],
   "source": [
    "for i, val in enumerate(orbitalPeriods):\n",
    "    orbitalPeriods[i] += 100\n",
    "    if math.isnan(orbitalPeriods[i]):\n",
    "        orbitalPeriods[i] = 0.0\n",
    "    \n",
    "    \n",
    "print orbitalPeriods.head(10)"
   ]
  },
  {
   "cell_type": "code",
   "execution_count": 38,
   "metadata": {
    "collapsed": false
   },
   "outputs": [
    {
     "data": {
      "text/html": [
       "<iframe id=\"igraph\" scrolling=\"no\" style=\"border:none;\"seamless=\"seamless\" src=\"https://plot.ly/~karthikbadam/26.embed\" height=\"525\" width=\"100%\"></iframe>"
      ],
      "text/plain": [
       "<plotly.tools.PlotlyDisplay object>"
      ]
     },
     "execution_count": 38,
     "metadata": {},
     "output_type": "execute_result"
    }
   ],
   "source": [
    "trace = Scatter(\n",
    "    x=planetData[\"pl_discmethod\"],\n",
    "    y=planetData[\"pl_orbper\"],\n",
    "    mode='markers',\n",
    "    name=\"Orbitals\",\n",
    "    marker=Marker(\n",
    "        size=orbitalPeriods,\n",
    "        sizeref=10000.0,\n",
    "        opacity=0.5)\n",
    ")\n",
    "py.iplot([trace], filename = 'basic-line')"
   ]
  },
  {
   "cell_type": "code",
   "execution_count": null,
   "metadata": {
    "collapsed": true
   },
   "outputs": [],
   "source": [
    "## Add more\n",
    "\n"
   ]
  },
  {
   "cell_type": "code",
   "execution_count": null,
   "metadata": {
    "collapsed": true
   },
   "outputs": [],
   "source": []
  }
 ],
 "metadata": {
  "kernelspec": {
   "display_name": "Python 2",
   "language": "python",
   "name": "python2"
  },
  "language_info": {
   "codemirror_mode": {
    "name": "ipython",
    "version": 2
   },
   "file_extension": ".py",
   "mimetype": "text/x-python",
   "name": "python",
   "nbconvert_exporter": "python",
   "pygments_lexer": "ipython2",
   "version": "2.7.10"
  }
 },
 "nbformat": 4,
 "nbformat_minor": 0
}
